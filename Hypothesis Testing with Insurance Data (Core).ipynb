{
 "cells": [
  {
   "cell_type": "markdown",
   "id": "2e0214c7",
   "metadata": {},
   "source": [
    "# 1. Import Library"
   ]
  },
  {
   "cell_type": "code",
   "execution_count": 1,
   "id": "b239ebae",
   "metadata": {},
   "outputs": [],
   "source": [
    "import pandas as pd\n",
    "import numpy as np\n",
    "import matplotlib.pyplot as plt\n",
    "import seaborn as sns\n",
    "import scipy.stats as stats"
   ]
  },
  {
   "cell_type": "markdown",
   "id": "9f5945e7",
   "metadata": {},
   "source": [
    "# 2. Load Data"
   ]
  },
  {
   "cell_type": "code",
   "execution_count": 2,
   "id": "b844d260",
   "metadata": {},
   "outputs": [
    {
     "data": {
      "text/html": [
       "<div>\n",
       "<style scoped>\n",
       "    .dataframe tbody tr th:only-of-type {\n",
       "        vertical-align: middle;\n",
       "    }\n",
       "\n",
       "    .dataframe tbody tr th {\n",
       "        vertical-align: top;\n",
       "    }\n",
       "\n",
       "    .dataframe thead th {\n",
       "        text-align: right;\n",
       "    }\n",
       "</style>\n",
       "<table border=\"1\" class=\"dataframe\">\n",
       "  <thead>\n",
       "    <tr style=\"text-align: right;\">\n",
       "      <th></th>\n",
       "      <th>age</th>\n",
       "      <th>sex</th>\n",
       "      <th>bmi</th>\n",
       "      <th>children</th>\n",
       "      <th>smoker</th>\n",
       "      <th>region</th>\n",
       "      <th>charges</th>\n",
       "    </tr>\n",
       "  </thead>\n",
       "  <tbody>\n",
       "    <tr>\n",
       "      <th>0</th>\n",
       "      <td>19</td>\n",
       "      <td>female</td>\n",
       "      <td>27.900</td>\n",
       "      <td>0</td>\n",
       "      <td>yes</td>\n",
       "      <td>southwest</td>\n",
       "      <td>16884.92400</td>\n",
       "    </tr>\n",
       "    <tr>\n",
       "      <th>1</th>\n",
       "      <td>18</td>\n",
       "      <td>male</td>\n",
       "      <td>33.770</td>\n",
       "      <td>1</td>\n",
       "      <td>no</td>\n",
       "      <td>southeast</td>\n",
       "      <td>1725.55230</td>\n",
       "    </tr>\n",
       "    <tr>\n",
       "      <th>2</th>\n",
       "      <td>28</td>\n",
       "      <td>male</td>\n",
       "      <td>33.000</td>\n",
       "      <td>3</td>\n",
       "      <td>no</td>\n",
       "      <td>southeast</td>\n",
       "      <td>4449.46200</td>\n",
       "    </tr>\n",
       "    <tr>\n",
       "      <th>3</th>\n",
       "      <td>33</td>\n",
       "      <td>male</td>\n",
       "      <td>22.705</td>\n",
       "      <td>0</td>\n",
       "      <td>no</td>\n",
       "      <td>northwest</td>\n",
       "      <td>21984.47061</td>\n",
       "    </tr>\n",
       "    <tr>\n",
       "      <th>4</th>\n",
       "      <td>32</td>\n",
       "      <td>male</td>\n",
       "      <td>28.880</td>\n",
       "      <td>0</td>\n",
       "      <td>no</td>\n",
       "      <td>northwest</td>\n",
       "      <td>3866.85520</td>\n",
       "    </tr>\n",
       "  </tbody>\n",
       "</table>\n",
       "</div>"
      ],
      "text/plain": [
       "   age     sex     bmi  children smoker     region      charges\n",
       "0   19  female  27.900         0    yes  southwest  16884.92400\n",
       "1   18    male  33.770         1     no  southeast   1725.55230\n",
       "2   28    male  33.000         3     no  southeast   4449.46200\n",
       "3   33    male  22.705         0     no  northwest  21984.47061\n",
       "4   32    male  28.880         0     no  northwest   3866.85520"
      ]
     },
     "execution_count": 2,
     "metadata": {},
     "output_type": "execute_result"
    }
   ],
   "source": [
    "df = pd.read_csv('Data/insurance.csv')\n",
    "df.head()"
   ]
  },
  {
   "cell_type": "code",
   "execution_count": 3,
   "id": "308eb0f1",
   "metadata": {},
   "outputs": [
    {
     "name": "stdout",
     "output_type": "stream",
     "text": [
      "<class 'pandas.core.frame.DataFrame'>\n",
      "RangeIndex: 1338 entries, 0 to 1337\n",
      "Data columns (total 7 columns):\n",
      " #   Column    Non-Null Count  Dtype  \n",
      "---  ------    --------------  -----  \n",
      " 0   age       1338 non-null   int64  \n",
      " 1   sex       1338 non-null   object \n",
      " 2   bmi       1338 non-null   float64\n",
      " 3   children  1338 non-null   int64  \n",
      " 4   smoker    1338 non-null   object \n",
      " 5   region    1338 non-null   object \n",
      " 6   charges   1338 non-null   float64\n",
      "dtypes: float64(2), int64(2), object(3)\n",
      "memory usage: 73.3+ KB\n"
     ]
    }
   ],
   "source": [
    "df.info()"
   ]
  },
  {
   "cell_type": "markdown",
   "id": "cb09ecf9",
   "metadata": {},
   "source": [
    "# Q1. Do smokers have higher insurance charges than non-smokers?"
   ]
  },
  {
   "cell_type": "markdown",
   "id": "400fb027",
   "metadata": {},
   "source": [
    "## 1. State your Null Hypothesis and Alternative Hypothesis"
   ]
  },
  {
   "cell_type": "markdown",
   "id": "79473f8f",
   "metadata": {},
   "source": [
    "**Null Hypothesis**: There is no difference in the insurance charges between smokers and non-smokers.\n",
    "\n",
    "**Alternative Hypothesis**: There is a difference in the insurance charges between smokers and non-smokers. \n"
   ]
  },
  {
   "cell_type": "markdown",
   "id": "8bfe85a2",
   "metadata": {},
   "source": [
    "## 2. Select the correct test according to the data type and number of samples"
   ]
  },
  {
   "cell_type": "code",
   "execution_count": 4,
   "id": "ee9a13a5",
   "metadata": {},
   "outputs": [
    {
     "data": {
      "text/plain": [
       "no     1064\n",
       "yes     274\n",
       "Name: smoker, dtype: int64"
      ]
     },
     "execution_count": 4,
     "metadata": {},
     "output_type": "execute_result"
    }
   ],
   "source": [
    "df['smoker'].value_counts()"
   ]
  },
  {
   "cell_type": "markdown",
   "id": "a3ff4918",
   "metadata": {},
   "source": [
    "**Test Type**: 2-sample Independent T-Test"
   ]
  },
  {
   "cell_type": "markdown",
   "id": "6feb6615",
   "metadata": {},
   "source": [
    "- T-Test because it is numerical\n",
    "- Independent because different participants are in each group (smokers vs non-smokers)\n",
    "- Number of samples > 15 for each group\n",
    "\n"
   ]
  },
  {
   "cell_type": "markdown",
   "id": "59dab260",
   "metadata": {},
   "source": [
    "## 3. Test the assumptions of your selected test."
   ]
  },
  {
   "cell_type": "markdown",
   "id": "d890436b",
   "metadata": {},
   "source": [
    "Independent T-Test Assumptions:\n",
    "\n",
    "- No significant outliers\n",
    "- Normality \n",
    "- Equal Variance "
   ]
  },
  {
   "cell_type": "code",
   "execution_count": 5,
   "id": "9f06289f",
   "metadata": {},
   "outputs": [
    {
     "name": "stdout",
     "output_type": "stream",
     "text": [
      "For Smoker (n=274): Mean=32050.23\n",
      "For Non-Smoker (n=1064): Mean=8434.27\n"
     ]
    }
   ],
   "source": [
    "smoker_insurance = df.loc[df['smoker']=='yes',\"charges\"]\n",
    "nonsmoker_insurance = df.loc[ df['smoker']=='no',\"charges\"]\n",
    "## Print the average charges for each group\n",
    "print(f\"For Smoker (n={len(smoker_insurance)}): Mean={np.mean(smoker_insurance):.2f}\")\n",
    "print(f\"For Non-Smoker (n={len(nonsmoker_insurance)}): Mean={np.mean(nonsmoker_insurance):.2f}\")"
   ]
  },
  {
   "cell_type": "markdown",
   "id": "66c25467",
   "metadata": {},
   "source": [
    "### 3.1 Check Outliers"
   ]
  },
  {
   "cell_type": "code",
   "execution_count": 6,
   "id": "fcf4e559",
   "metadata": {},
   "outputs": [
    {
     "data": {
      "text/plain": [
       "0"
      ]
     },
     "execution_count": 6,
     "metadata": {},
     "output_type": "execute_result"
    }
   ],
   "source": [
    "#check for outliers in insurance charges in the Smoker group\n",
    "zscores_f = stats.zscore(smoker_insurance)\n",
    "outliers_f = abs(zscores_f)>3\n",
    "np.sum(outliers_f)"
   ]
  },
  {
   "cell_type": "code",
   "execution_count": 7,
   "id": "8d6858d9",
   "metadata": {},
   "outputs": [
    {
     "data": {
      "text/plain": [
       "24"
      ]
     },
     "execution_count": 7,
     "metadata": {},
     "output_type": "execute_result"
    }
   ],
   "source": [
    "#check for outliers in insurance charges in the Non-Smoker group\n",
    "zscores_f = stats.zscore(nonsmoker_insurance)\n",
    "outliers_f = abs(zscores_f)>3\n",
    "np.sum(outliers_f)"
   ]
  },
  {
   "cell_type": "markdown",
   "id": "17289bbd",
   "metadata": {},
   "source": [
    "There are 24 outliers in the Non-Smoker group, so I will remove the outliers."
   ]
  },
  {
   "cell_type": "code",
   "execution_count": 8,
   "id": "6cb3fa77",
   "metadata": {},
   "outputs": [],
   "source": [
    "# remove outliers \n",
    "nonsmoker_insurance = nonsmoker_insurance[(np.abs(stats.zscore(nonsmoker_insurance)) < 3)]"
   ]
  },
  {
   "cell_type": "markdown",
   "id": "b960657a",
   "metadata": {},
   "source": [
    "### 3.2 Test Each Group for Normality"
   ]
  },
  {
   "cell_type": "code",
   "execution_count": 9,
   "id": "abfa607c",
   "metadata": {},
   "outputs": [
    {
     "data": {
      "text/plain": [
       "NormaltestResult(statistic=61.03941356533816, pvalue=5.564930630036463e-14)"
      ]
     },
     "execution_count": 9,
     "metadata": {},
     "output_type": "execute_result"
    }
   ],
   "source": [
    "# normal test: smokers\n",
    "result_smoker = stats.normaltest(smoker_insurance)\n",
    "result_smoker"
   ]
  },
  {
   "cell_type": "markdown",
   "id": "5bd9bd8f",
   "metadata": {},
   "source": [
    "p-value is less than 0.05, however, sample size is greater than 15, so we can proceed."
   ]
  },
  {
   "cell_type": "code",
   "execution_count": 10,
   "id": "d023899e",
   "metadata": {},
   "outputs": [
    {
     "data": {
      "text/plain": [
       "NormaltestResult(statistic=163.80367047789198, pvalue=2.6945416315543976e-36)"
      ]
     },
     "execution_count": 10,
     "metadata": {},
     "output_type": "execute_result"
    }
   ],
   "source": [
    "# normal test: non-smokers\n",
    "result_nonsmoker = stats.normaltest(nonsmoker_insurance)\n",
    "result_nonsmoker"
   ]
  },
  {
   "cell_type": "markdown",
   "id": "21230dd8",
   "metadata": {},
   "source": [
    "For both groups, the p-value is less than 0.05, however, since the sample size for each group is more than 15, \n",
    "we can proceed."
   ]
  },
  {
   "cell_type": "markdown",
   "id": "3860c139",
   "metadata": {},
   "source": [
    "### 3.3 Test for Equal Variance"
   ]
  },
  {
   "cell_type": "code",
   "execution_count": 11,
   "id": "cad82c35",
   "metadata": {},
   "outputs": [
    {
     "data": {
      "text/plain": [
       "LeveneResult(statistic=520.7468821724297, pvalue=2.4247238784347824e-97)"
      ]
     },
     "execution_count": 11,
     "metadata": {},
     "output_type": "execute_result"
    }
   ],
   "source": [
    "result = stats.levene(smoker_insurance, nonsmoker_insurance)\n",
    "result"
   ]
  },
  {
   "cell_type": "markdown",
   "id": "6e667931",
   "metadata": {},
   "source": [
    "Since p-value is less than 0.05, we do not have equal variance. \n",
    "\n",
    "We will need to include \"equal_var = False\" when we perform our t-test."
   ]
  },
  {
   "cell_type": "markdown",
   "id": "baa3def5",
   "metadata": {},
   "source": [
    "## 4. Execute the selected test, or the alternative test (if you do not meet the assumptions)"
   ]
  },
  {
   "cell_type": "code",
   "execution_count": 12,
   "id": "3eb50dd6",
   "metadata": {},
   "outputs": [
    {
     "data": {
      "text/plain": [
       "Ttest_indResult(statistic=33.732305987092516, pvalue=2.5753226625873578e-104)"
      ]
     },
     "execution_count": 12,
     "metadata": {},
     "output_type": "execute_result"
    }
   ],
   "source": [
    "# Independent t-test with equal_var set to False\n",
    "result = stats.ttest_ind(smoker_insurance, nonsmoker_insurance, equal_var = False)\n",
    "result"
   ]
  },
  {
   "cell_type": "markdown",
   "id": "e58a78ca",
   "metadata": {},
   "source": [
    "## 5. Interpret your p-value and reject or fail to reject your null hypothesis "
   ]
  },
  {
   "cell_type": "markdown",
   "id": "0675b2a8",
   "metadata": {},
   "source": [
    "The p-value < alpha (0.05), so we reject the null hypothesis and support that there is a significant difference in the insurance charges between smokers and non-smokers."
   ]
  },
  {
   "cell_type": "markdown",
   "id": "3be68143",
   "metadata": {},
   "source": [
    "## 6. Show a supporting visualization that helps display the result"
   ]
  },
  {
   "cell_type": "code",
   "execution_count": 13,
   "id": "0a492588",
   "metadata": {},
   "outputs": [
    {
     "data": {
      "image/png": "[encoded data removed]",
      "text/plain": [
       "<Figure size 640x480 with 1 Axes>"
      ]
     },
     "metadata": {},
     "output_type": "display_data"
    }
   ],
   "source": [
    "#calculate the statistical values\n",
    "smoker_mean = smoker_insurance.mean()\n",
    "nonsmoker_mean = nonsmoker_insurance.mean()\n",
    "\n",
    "# base plot\n",
    "ax = sns.histplot(data=df, x='charges', hue='smoker')\n",
    "\n",
    "# Add a line for the mean (red) of smoker insurance charges\n",
    "ax.axvline(smoker_mean, color = 'red',label=f'Smoker Mean = {smoker_mean:,.2f}')\n",
    "# Add a line for the mean (green) of non-smoker insurance charges\n",
    "ax.axvline(nonsmoker_mean, color = 'green', label = f'Non-Smoker Mean = {nonsmoker_mean:,.2f}')\n",
    "\n",
    "# Add title to the plot\n",
    "ax.set_title('Insurance Charges by Smoker & Non-Smoker')\n",
    "\n",
    "# Add legend to the plot\n",
    "ax.legend();"
   ]
  },
  {
   "cell_type": "markdown",
   "id": "6629abf5",
   "metadata": {},
   "source": [
    "# Q2. Are men more likely to smoke than women?"
   ]
  },
  {
   "cell_type": "markdown",
   "id": "c8f38cb0",
   "metadata": {},
   "source": [
    "## 1. State your Null Hypothesis and Alternative Hypothesis"
   ]
  },
  {
   "cell_type": "markdown",
   "id": "2d831c83",
   "metadata": {},
   "source": [
    "**Null Hypothesis**: There is no difference in the likelihood of smoking between men and women.\n",
    "\n",
    "**Alternative Hypothesis**: Sex influences the likelihood of smoking."
   ]
  },
  {
   "cell_type": "markdown",
   "id": "7f6978e0",
   "metadata": {},
   "source": [
    "## 2. Select the correct test according to the data type and number of samples"
   ]
  },
  {
   "cell_type": "code",
   "execution_count": 14,
   "id": "30f9e7b0",
   "metadata": {},
   "outputs": [
    {
     "name": "stdout",
     "output_type": "stream",
     "text": [
      "<class 'pandas.core.frame.DataFrame'>\n",
      "RangeIndex: 1338 entries, 0 to 1337\n",
      "Data columns (total 7 columns):\n",
      " #   Column    Non-Null Count  Dtype  \n",
      "---  ------    --------------  -----  \n",
      " 0   age       1338 non-null   int64  \n",
      " 1   sex       1338 non-null   object \n",
      " 2   bmi       1338 non-null   float64\n",
      " 3   children  1338 non-null   int64  \n",
      " 4   smoker    1338 non-null   object \n",
      " 5   region    1338 non-null   object \n",
      " 6   charges   1338 non-null   float64\n",
      "dtypes: float64(2), int64(2), object(3)\n",
      "memory usage: 73.3+ KB\n"
     ]
    }
   ],
   "source": [
    "df.info()"
   ]
  },
  {
   "cell_type": "code",
   "execution_count": 15,
   "id": "f939a075",
   "metadata": {},
   "outputs": [
    {
     "data": {
      "text/plain": [
       "male      676\n",
       "female    662\n",
       "Name: sex, dtype: int64"
      ]
     },
     "execution_count": 15,
     "metadata": {},
     "output_type": "execute_result"
    }
   ],
   "source": [
    "df['sex'].value_counts()"
   ]
  },
  {
   "cell_type": "markdown",
   "id": "153cd5ca",
   "metadata": {},
   "source": [
    "**Test-Type**: Chi-Square test (Categorical Hypothesis Testing)"
   ]
  },
  {
   "cell_type": "markdown",
   "id": "4ad55352",
   "metadata": {},
   "source": [
    "**Justifications**:\n",
    "\n",
    "- The column of interest (target column) is 'smoker' (yes/no).\n",
    "- We are comparing a binary target category: 'smoker' (yes/no) vs. categorical groups: 'sex' (female/male).\n"
   ]
  },
  {
   "cell_type": "markdown",
   "id": "5a6d88a4",
   "metadata": {},
   "source": [
    "## 3. Test the assumptions of your selected test."
   ]
  },
  {
   "cell_type": "markdown",
   "id": "c3540eff",
   "metadata": {},
   "source": [
    "> Chi-Square test assumptions:\n",
    ">\n",
    "> - There are two categorical variables (ordinal or nominal)\n",
    "> - The outcomes are independent."
   ]
  },
  {
   "cell_type": "markdown",
   "id": "9073a0cd",
   "metadata": {},
   "source": [
    "### 3.1 Two categorical variables"
   ]
  },
  {
   "cell_type": "markdown",
   "id": "23c10b21",
   "metadata": {},
   "source": [
    "1. 'smoker'\n",
    "2. 'sex'"
   ]
  },
  {
   "cell_type": "markdown",
   "id": "456f52af",
   "metadata": {},
   "source": [
    "### 3.2 Outcomes are independent"
   ]
  },
  {
   "cell_type": "markdown",
   "id": "34bb1cf2",
   "metadata": {},
   "source": [
    "Different participants are in each group (male vs female), so outcomes are independent."
   ]
  },
  {
   "cell_type": "markdown",
   "id": "f696a12d",
   "metadata": {},
   "source": [
    "## 4. Execute the selected test, or the alternative test (if you do not meet the assumptions)"
   ]
  },
  {
   "cell_type": "markdown",
   "id": "c310a432",
   "metadata": {},
   "source": [
    "### 4.1 Getting the Contingency Table with `pd.crosstab`\n"
   ]
  },
  {
   "cell_type": "code",
   "execution_count": 16,
   "id": "3d62a050",
   "metadata": {},
   "outputs": [
    {
     "data": {
      "text/html": [
       "<div>\n",
       "<style scoped>\n",
       "    .dataframe tbody tr th:only-of-type {\n",
       "        vertical-align: middle;\n",
       "    }\n",
       "\n",
       "    .dataframe tbody tr th {\n",
       "        vertical-align: top;\n",
       "    }\n",
       "\n",
       "    .dataframe thead th {\n",
       "        text-align: right;\n",
       "    }\n",
       "</style>\n",
       "<table border=\"1\" class=\"dataframe\">\n",
       "  <thead>\n",
       "    <tr style=\"text-align: right;\">\n",
       "      <th>smoker</th>\n",
       "      <th>no</th>\n",
       "      <th>yes</th>\n",
       "    </tr>\n",
       "    <tr>\n",
       "      <th>sex</th>\n",
       "      <th></th>\n",
       "      <th></th>\n",
       "    </tr>\n",
       "  </thead>\n",
       "  <tbody>\n",
       "    <tr>\n",
       "      <th>female</th>\n",
       "      <td>547</td>\n",
       "      <td>115</td>\n",
       "    </tr>\n",
       "    <tr>\n",
       "      <th>male</th>\n",
       "      <td>517</td>\n",
       "      <td>159</td>\n",
       "    </tr>\n",
       "  </tbody>\n",
       "</table>\n",
       "</div>"
      ],
      "text/plain": [
       "smoker   no  yes\n",
       "sex             \n",
       "female  547  115\n",
       "male    517  159"
      ]
     },
     "execution_count": 16,
     "metadata": {},
     "output_type": "execute_result"
    }
   ],
   "source": [
    "# calculate the contingency table with pd.cross-tab\n",
    "table = pd.crosstab(df['sex'], df['smoker'])\n",
    "table"
   ]
  },
  {
   "cell_type": "code",
   "execution_count": 17,
   "id": "7474feff",
   "metadata": {},
   "outputs": [],
   "source": [
    "# Run the Test and Save the Output\n",
    "result = stats.chi2_contingency(table)\n",
    "chi2, p, deg_free, expected_vals = result #this labels the results"
   ]
  },
  {
   "cell_type": "code",
   "execution_count": 18,
   "id": "f0e3b782",
   "metadata": {},
   "outputs": [
    {
     "name": "stdout",
     "output_type": "stream",
     "text": [
      "0.006548143503580696\n"
     ]
    },
    {
     "data": {
      "text/plain": [
       "True"
      ]
     },
     "execution_count": 18,
     "metadata": {},
     "output_type": "execute_result"
    }
   ],
   "source": [
    "# Display p-value and check against alpha\n",
    "print(p)\n",
    "p<.05"
   ]
  },
  {
   "cell_type": "markdown",
   "id": "15ac3239",
   "metadata": {},
   "source": [
    "## 5. Interpret your p-value and reject or fail to reject your null hypothesis "
   ]
  },
  {
   "cell_type": "markdown",
   "id": "ffda8172",
   "metadata": {},
   "source": [
    "The p-value is less than 0.05, so we have a significant result.\n",
    "\n",
    "Since the p-value < .05, we reject the null hypothesis that there is no relationship between sex and likelihood of being a smoker.\n",
    "\n",
    "This means that we support the alternate hypothesis that men are more likely to smoke than women."
   ]
  },
  {
   "cell_type": "markdown",
   "id": "296cb55c",
   "metadata": {},
   "source": [
    "## 6. Show a supporting visualization that helps display the result"
   ]
  },
  {
   "cell_type": "code",
   "execution_count": 19,
   "id": "2f8f0714",
   "metadata": {},
   "outputs": [
    {
     "data": {
      "text/plain": [
       "Text(0.5, 1.0, 'Smoker by sex')"
      ]
     },
     "execution_count": 19,
     "metadata": {},
     "output_type": "execute_result"
    },
    {
     "data": {
      "image/png": "[encoded data removed]",
      "text/plain": [
       "<Figure size 640x480 with 1 Axes>"
      ]
     },
     "metadata": {},
     "output_type": "display_data"
    }
   ],
   "source": [
    "\n",
    "ax = sns.countplot(data=df, x='smoker', hue='sex')\n",
    "\n",
    "# Add title to the plot\n",
    "ax.set_title('Smoker by sex')\n"
   ]
  },
  {
   "cell_type": "markdown",
   "id": "fc147e93",
   "metadata": {},
   "source": [
    "# Q3. Do different regions have different charges, on average?"
   ]
  },
  {
   "cell_type": "markdown",
   "id": "485f61f7",
   "metadata": {},
   "source": [
    "## 1. State your Null Hypothesis and Alternative Hypothesis"
   ]
  },
  {
   "cell_type": "markdown",
   "id": "8f81f0f7",
   "metadata": {},
   "source": [
    "**Null Hypothesis**: There are no difference in the charges across different regions.\n",
    "\n",
    "**Alternate Hypothesis**: There are differences in the charges in different regions, on average."
   ]
  },
  {
   "cell_type": "markdown",
   "id": "a3c6810a",
   "metadata": {},
   "source": [
    "## 2. Select the correct test according to the data type and number of samples"
   ]
  },
  {
   "cell_type": "code",
   "execution_count": 20,
   "id": "837c0e5d",
   "metadata": {},
   "outputs": [
    {
     "data": {
      "text/plain": [
       "southeast    364\n",
       "southwest    325\n",
       "northwest    325\n",
       "northeast    324\n",
       "Name: region, dtype: int64"
      ]
     },
     "execution_count": 20,
     "metadata": {},
     "output_type": "execute_result"
    }
   ],
   "source": [
    "df['region'].value_counts()"
   ]
  },
  {
   "cell_type": "markdown",
   "id": "8688aa68",
   "metadata": {},
   "source": [
    "**Test Type**: One-Way ANOVA and/or Tukey (if assumptions are met.)\n",
    "\n",
    "**Justifications**: \n",
    "- The target column is 'charges' which is numerical.\n",
    "- We are comparing more than 2 groups (4 regions)."
   ]
  },
  {
   "cell_type": "markdown",
   "id": "08daf8b0",
   "metadata": {},
   "source": [
    "## 3. Test the assumptions of your selected test."
   ]
  },
  {
   "cell_type": "markdown",
   "id": "d0a7112e",
   "metadata": {},
   "source": [
    "One Way ANOVA test assumptions: \n",
    "    \n",
    "- No significant outliers\n",
    "- Equal variance\n",
    "- Normality"
   ]
  },
  {
   "cell_type": "code",
   "execution_count": 21,
   "id": "f95abea1",
   "metadata": {},
   "outputs": [
    {
     "name": "stdout",
     "output_type": "stream",
     "text": [
      "For southeast region (n=364): Mean=14735.41\n",
      "For southwest region (n=325): Mean=12346.94\n",
      "For northwest region (n=325): Mean=12417.58\n",
      "For northeast region (n=324): Mean=13406.38\n"
     ]
    }
   ],
   "source": [
    "SE_charges = df.loc[df['region']=='southeast',\"charges\"]\n",
    "SW_charges = df.loc[df['region']=='southwest',\"charges\"]\n",
    "NW_charges = df.loc[df['region']=='northwest',\"charges\"]\n",
    "NE_charges = df.loc[df['region']=='northeast',\"charges\"]\n",
    "## Print the average charges for each group\n",
    "print(f\"For southeast region (n={len(SE_charges)}): Mean={np.mean(SE_charges):.2f}\")\n",
    "print(f\"For southwest region (n={len(SW_charges)}): Mean={np.mean(SW_charges):.2f}\")\n",
    "print(f\"For northwest region (n={len(NW_charges)}): Mean={np.mean(NW_charges):.2f}\")\n",
    "print(f\"For northeast region (n={len(NE_charges)}): Mean={np.mean(NE_charges):.2f}\")"
   ]
  },
  {
   "cell_type": "markdown",
   "id": "18f3a883",
   "metadata": {},
   "source": [
    "### 3.1 Check Outliers"
   ]
  },
  {
   "cell_type": "markdown",
   "id": "16b67d76",
   "metadata": {},
   "source": [
    "**southeast**"
   ]
  },
  {
   "cell_type": "code",
   "execution_count": 22,
   "id": "84eac428",
   "metadata": {},
   "outputs": [
    {
     "data": {
      "text/plain": [
       "364"
      ]
     },
     "execution_count": 22,
     "metadata": {},
     "output_type": "execute_result"
    }
   ],
   "source": [
    "#check initial count before removing outliers\n",
    "len(SE_charges)"
   ]
  },
  {
   "cell_type": "code",
   "execution_count": 23,
   "id": "4ee529f6",
   "metadata": {},
   "outputs": [
    {
     "data": {
      "text/plain": [
       "2"
      ]
     },
     "execution_count": 23,
     "metadata": {},
     "output_type": "execute_result"
    }
   ],
   "source": [
    "#check for outliers in insurance charges in the southeast group\n",
    "zscores_f = stats.zscore(SE_charges)\n",
    "outliers_f = abs(zscores_f)>3\n",
    "np.sum(outliers_f)"
   ]
  },
  {
   "cell_type": "markdown",
   "id": "6774ee0f",
   "metadata": {},
   "source": [
    "There are two outliers in the \"southeast\" region, so I will remove the outliers."
   ]
  },
  {
   "cell_type": "code",
   "execution_count": 24,
   "id": "fc9c4e57",
   "metadata": {},
   "outputs": [],
   "source": [
    "# remove outliers \n",
    "SE_charges = SE_charges[(np.abs(stats.zscore(SE_charges)) < 3)]"
   ]
  },
  {
   "cell_type": "code",
   "execution_count": 25,
   "id": "f815d1b1",
   "metadata": {},
   "outputs": [
    {
     "data": {
      "text/plain": [
       "362"
      ]
     },
     "execution_count": 25,
     "metadata": {},
     "output_type": "execute_result"
    }
   ],
   "source": [
    "#check final count after removing outliers\n",
    "len(SE_charges)"
   ]
  },
  {
   "cell_type": "markdown",
   "id": "d4050f3d",
   "metadata": {},
   "source": [
    "**southwest**"
   ]
  },
  {
   "cell_type": "code",
   "execution_count": 26,
   "id": "92d11173",
   "metadata": {},
   "outputs": [
    {
     "data": {
      "text/plain": [
       "325"
      ]
     },
     "execution_count": 26,
     "metadata": {},
     "output_type": "execute_result"
    }
   ],
   "source": [
    "#check initial count before removing outliers\n",
    "len(SW_charges)"
   ]
  },
  {
   "cell_type": "code",
   "execution_count": 27,
   "id": "2829db72",
   "metadata": {},
   "outputs": [
    {
     "data": {
      "text/plain": [
       "8"
      ]
     },
     "execution_count": 27,
     "metadata": {},
     "output_type": "execute_result"
    }
   ],
   "source": [
    "#check for outliers in insurance charges in the southwest group\n",
    "zscores_f = stats.zscore(SW_charges)\n",
    "outliers_f = abs(zscores_f)>3\n",
    "np.sum(outliers_f)"
   ]
  },
  {
   "cell_type": "markdown",
   "id": "356793a3",
   "metadata": {},
   "source": [
    "There are 8 outliers in the \"southwest\" region, so I will remove the outliers."
   ]
  },
  {
   "cell_type": "code",
   "execution_count": 28,
   "id": "fcbac6d6",
   "metadata": {},
   "outputs": [],
   "source": [
    "# remove outliers \n",
    "SW_charges = SW_charges[(np.abs(stats.zscore(SW_charges)) < 3)]"
   ]
  },
  {
   "cell_type": "code",
   "execution_count": 29,
   "id": "73a5e5d7",
   "metadata": {},
   "outputs": [
    {
     "data": {
      "text/plain": [
       "317"
      ]
     },
     "execution_count": 29,
     "metadata": {},
     "output_type": "execute_result"
    }
   ],
   "source": [
    "#check final count after removing outliers\n",
    "len(SW_charges)"
   ]
  },
  {
   "cell_type": "markdown",
   "id": "e82d09db",
   "metadata": {},
   "source": [
    "**northwest**"
   ]
  },
  {
   "cell_type": "code",
   "execution_count": 30,
   "id": "186dff76",
   "metadata": {},
   "outputs": [
    {
     "data": {
      "text/plain": [
       "325"
      ]
     },
     "execution_count": 30,
     "metadata": {},
     "output_type": "execute_result"
    }
   ],
   "source": [
    "#check initial count before removing outliers\n",
    "len(NW_charges)"
   ]
  },
  {
   "cell_type": "code",
   "execution_count": 31,
   "id": "32f4915f",
   "metadata": {},
   "outputs": [
    {
     "data": {
      "text/plain": [
       "7"
      ]
     },
     "execution_count": 31,
     "metadata": {},
     "output_type": "execute_result"
    }
   ],
   "source": [
    "#check for outliers in insurance charges in the southwest group\n",
    "zscores_f = stats.zscore(NW_charges)\n",
    "outliers_f = abs(zscores_f)>3\n",
    "np.sum(outliers_f)"
   ]
  },
  {
   "cell_type": "markdown",
   "id": "5b2a2215",
   "metadata": {},
   "source": [
    "There are 7 outliers in the \"northwest\" region, so I will remove the outliers."
   ]
  },
  {
   "cell_type": "code",
   "execution_count": 32,
   "id": "247b9976",
   "metadata": {},
   "outputs": [],
   "source": [
    "# remove outliers \n",
    "NW_charges = NW_charges[(np.abs(stats.zscore(NW_charges)) < 3)]"
   ]
  },
  {
   "cell_type": "code",
   "execution_count": 33,
   "id": "01bda4d3",
   "metadata": {},
   "outputs": [
    {
     "data": {
      "text/plain": [
       "318"
      ]
     },
     "execution_count": 33,
     "metadata": {},
     "output_type": "execute_result"
    }
   ],
   "source": [
    "#check final count after removing outliers\n",
    "len(NW_charges)"
   ]
  },
  {
   "cell_type": "markdown",
   "id": "c8f90834",
   "metadata": {},
   "source": [
    "**northeast**"
   ]
  },
  {
   "cell_type": "code",
   "execution_count": 34,
   "id": "c544c107",
   "metadata": {},
   "outputs": [
    {
     "data": {
      "text/plain": [
       "324"
      ]
     },
     "execution_count": 34,
     "metadata": {},
     "output_type": "execute_result"
    }
   ],
   "source": [
    "#check initial count before removing outliers\n",
    "len(NE_charges)"
   ]
  },
  {
   "cell_type": "code",
   "execution_count": 35,
   "id": "352f1c95",
   "metadata": {},
   "outputs": [
    {
     "data": {
      "text/plain": [
       "4"
      ]
     },
     "execution_count": 35,
     "metadata": {},
     "output_type": "execute_result"
    }
   ],
   "source": [
    "#check for outliers in insurance charges in the southwest group\n",
    "zscores_f = stats.zscore(NE_charges)\n",
    "outliers_f = abs(zscores_f)>3\n",
    "np.sum(outliers_f)"
   ]
  },
  {
   "cell_type": "markdown",
   "id": "bda893ae",
   "metadata": {},
   "source": [
    "There are 4 outliers in the \"northeast\" region, so I will remove the outliers."
   ]
  },
  {
   "cell_type": "code",
   "execution_count": 36,
   "id": "8af2ffde",
   "metadata": {},
   "outputs": [],
   "source": [
    "# remove outliers \n",
    "NE_charges = NE_charges[(np.abs(stats.zscore(NE_charges)) < 3)]"
   ]
  },
  {
   "cell_type": "code",
   "execution_count": 37,
   "id": "34ec4397",
   "metadata": {},
   "outputs": [
    {
     "data": {
      "text/plain": [
       "320"
      ]
     },
     "execution_count": 37,
     "metadata": {},
     "output_type": "execute_result"
    }
   ],
   "source": [
    "#check final count after removing outliers\n",
    "len(NE_charges)"
   ]
  },
  {
   "cell_type": "markdown",
   "id": "7e14c25e",
   "metadata": {},
   "source": [
    "### 3.2 Test for Normality"
   ]
  },
  {
   "cell_type": "markdown",
   "id": "603784e3",
   "metadata": {},
   "source": [
    "Separate into groups"
   ]
  },
  {
   "cell_type": "code",
   "execution_count": 38,
   "id": "f76a15d9",
   "metadata": {},
   "outputs": [
    {
     "data": {
      "text/plain": [
       "dict_keys(['southwest', 'southeast', 'northwest', 'northeast'])"
      ]
     },
     "execution_count": 38,
     "metadata": {},
     "output_type": "execute_result"
    }
   ],
   "source": [
    "## Create groups dictionary. \n",
    "groups = {}\n",
    "## Loop through all unique categories\n",
    "for i in df['region'].unique():\n",
    "    ## Get series for group and rename\n",
    "    data = df.loc[df['region']==i,'charges'].copy()\n",
    "    \n",
    "    # save into the dictionary\n",
    "    groups[i] = data\n",
    "groups.keys()"
   ]
  },
  {
   "cell_type": "code",
   "execution_count": 39,
   "id": "047d64f5",
   "metadata": {},
   "outputs": [
    {
     "data": {
      "text/html": [
       "<div>\n",
       "<style scoped>\n",
       "    .dataframe tbody tr th:only-of-type {\n",
       "        vertical-align: middle;\n",
       "    }\n",
       "\n",
       "    .dataframe tbody tr th {\n",
       "        vertical-align: top;\n",
       "    }\n",
       "\n",
       "    .dataframe thead th {\n",
       "        text-align: right;\n",
       "    }\n",
       "</style>\n",
       "<table border=\"1\" class=\"dataframe\">\n",
       "  <thead>\n",
       "    <tr style=\"text-align: right;\">\n",
       "      <th></th>\n",
       "      <th>n</th>\n",
       "      <th>p</th>\n",
       "      <th>test stat</th>\n",
       "    </tr>\n",
       "  </thead>\n",
       "  <tbody>\n",
       "    <tr>\n",
       "      <th>southwest</th>\n",
       "      <td>325.0</td>\n",
       "      <td>6.125298e-23</td>\n",
       "      <td>102.294059</td>\n",
       "    </tr>\n",
       "    <tr>\n",
       "      <th>southeast</th>\n",
       "      <td>364.0</td>\n",
       "      <td>4.953297e-15</td>\n",
       "      <td>65.877446</td>\n",
       "    </tr>\n",
       "    <tr>\n",
       "      <th>northwest</th>\n",
       "      <td>325.0</td>\n",
       "      <td>5.184209e-24</td>\n",
       "      <td>107.232850</td>\n",
       "    </tr>\n",
       "    <tr>\n",
       "      <th>northeast</th>\n",
       "      <td>324.0</td>\n",
       "      <td>1.455431e-19</td>\n",
       "      <td>86.747629</td>\n",
       "    </tr>\n",
       "  </tbody>\n",
       "</table>\n",
       "</div>"
      ],
      "text/plain": [
       "               n             p   test stat\n",
       "southwest  325.0  6.125298e-23  102.294059\n",
       "southeast  364.0  4.953297e-15   65.877446\n",
       "northwest  325.0  5.184209e-24  107.232850\n",
       "northeast  324.0  1.455431e-19   86.747629"
      ]
     },
     "execution_count": 39,
     "metadata": {},
     "output_type": "execute_result"
    }
   ],
   "source": [
    "## Run normal test on each group and confirming there are >15 in each group\n",
    "norm_results = {}\n",
    "for i, data in groups.items():\n",
    "    stat, p = stats.normaltest(data)\n",
    "    ## save the p val, test statistic, and the size of the group\n",
    "    norm_results[i] = {'n': len(data),\n",
    "                             'p':p,\n",
    "                             'test stat':stat,}\n",
    "## convert to a dataframe\n",
    "norm_results_df = pd.DataFrame(norm_results).T\n",
    "norm_results_df"
   ]
  },
  {
   "cell_type": "code",
   "execution_count": 40,
   "id": "dfb123c6",
   "metadata": {},
   "outputs": [
    {
     "data": {
      "text/html": [
       "<div>\n",
       "<style scoped>\n",
       "    .dataframe tbody tr th:only-of-type {\n",
       "        vertical-align: middle;\n",
       "    }\n",
       "\n",
       "    .dataframe tbody tr th {\n",
       "        vertical-align: top;\n",
       "    }\n",
       "\n",
       "    .dataframe thead th {\n",
       "        text-align: right;\n",
       "    }\n",
       "</style>\n",
       "<table border=\"1\" class=\"dataframe\">\n",
       "  <thead>\n",
       "    <tr style=\"text-align: right;\">\n",
       "      <th></th>\n",
       "      <th>n</th>\n",
       "      <th>p</th>\n",
       "      <th>test stat</th>\n",
       "      <th>sig</th>\n",
       "    </tr>\n",
       "  </thead>\n",
       "  <tbody>\n",
       "    <tr>\n",
       "      <th>southwest</th>\n",
       "      <td>325.0</td>\n",
       "      <td>6.125298e-23</td>\n",
       "      <td>102.294059</td>\n",
       "      <td>True</td>\n",
       "    </tr>\n",
       "    <tr>\n",
       "      <th>southeast</th>\n",
       "      <td>364.0</td>\n",
       "      <td>4.953297e-15</td>\n",
       "      <td>65.877446</td>\n",
       "      <td>True</td>\n",
       "    </tr>\n",
       "    <tr>\n",
       "      <th>northwest</th>\n",
       "      <td>325.0</td>\n",
       "      <td>5.184209e-24</td>\n",
       "      <td>107.232850</td>\n",
       "      <td>True</td>\n",
       "    </tr>\n",
       "    <tr>\n",
       "      <th>northeast</th>\n",
       "      <td>324.0</td>\n",
       "      <td>1.455431e-19</td>\n",
       "      <td>86.747629</td>\n",
       "      <td>True</td>\n",
       "    </tr>\n",
       "  </tbody>\n",
       "</table>\n",
       "</div>"
      ],
      "text/plain": [
       "               n             p   test stat   sig\n",
       "southwest  325.0  6.125298e-23  102.294059  True\n",
       "southeast  364.0  4.953297e-15   65.877446  True\n",
       "northwest  325.0  5.184209e-24  107.232850  True\n",
       "northeast  324.0  1.455431e-19   86.747629  True"
      ]
     },
     "execution_count": 40,
     "metadata": {},
     "output_type": "execute_result"
    }
   ],
   "source": [
    "### check significance\n",
    "norm_results_df['sig'] = norm_results_df['p'] < .05 \n",
    "norm_results_df"
   ]
  },
  {
   "cell_type": "markdown",
   "id": "9ef29dc2",
   "metadata": {},
   "source": [
    "These groups do not have normal distribution, but the sample size is greater than 15, so we can proceed."
   ]
  },
  {
   "cell_type": "markdown",
   "id": "1df7bdd8",
   "metadata": {},
   "source": [
    "### 3.3 Equal Variance"
   ]
  },
  {
   "cell_type": "code",
   "execution_count": 41,
   "id": "18683d25",
   "metadata": {},
   "outputs": [
    {
     "data": {
      "text/plain": [
       "LeveneResult(statistic=5.559966758410606, pvalue=0.0008610590250786703)"
      ]
     },
     "execution_count": 41,
     "metadata": {},
     "output_type": "execute_result"
    }
   ],
   "source": [
    "# with the * operator \n",
    "stats.levene(*groups.values())"
   ]
  },
  {
   "cell_type": "markdown",
   "id": "d2c1d948",
   "metadata": {},
   "source": [
    "**Interpretation**: p-value is < 0.05, therefore, we do **not** have equal variance.\n",
    "\n",
    "Therefore, we must select the **non-parametric equivalent** of the ONE-WAY ANOVA test, which is the **Kruskal-Wallis** test."
   ]
  },
  {
   "cell_type": "markdown",
   "id": "e1896c00",
   "metadata": {},
   "source": [
    "## 4. Execute the selected test, or the alternative test (if you do not meet the assumptions)"
   ]
  },
  {
   "cell_type": "code",
   "execution_count": 42,
   "id": "b76d01eb",
   "metadata": {},
   "outputs": [
    {
     "data": {
      "text/plain": [
       "KruskalResult(statistic=4.734181215658743, pvalue=0.19232908072121002)"
      ]
     },
     "execution_count": 42,
     "metadata": {},
     "output_type": "execute_result"
    }
   ],
   "source": [
    "# perform the hypothesis test\n",
    "result = stats.kruskal( *groups.values())\n",
    "result"
   ]
  },
  {
   "cell_type": "markdown",
   "id": "bdfae142",
   "metadata": {},
   "source": [
    "## 5.Interpret your p-value and reject or fail to reject your null hypothesis "
   ]
  },
  {
   "cell_type": "markdown",
   "id": "f115bd6f",
   "metadata": {},
   "source": [
    "p-value is > 0.05, therefore, the test result did not show significance.\n",
    "\n",
    "We fail to reject the null hypothesis and conclude that there are no significant difference in the average charges between the 4 regions."
   ]
  },
  {
   "cell_type": "markdown",
   "id": "fdfb289e",
   "metadata": {},
   "source": [
    "## 6. Show a supporting visualization that helps display the result"
   ]
  },
  {
   "cell_type": "code",
   "execution_count": 43,
   "id": "6318ef4a",
   "metadata": {},
   "outputs": [
    {
     "data": {
      "image/png": "[encoded data removed]",
      "text/plain": [
       "<Figure size 640x480 with 1 Axes>"
      ]
     },
     "metadata": {},
     "output_type": "display_data"
    }
   ],
   "source": [
    "\n",
    "ax = sns.barplot(data=df, x='region', y='charges')\n",
    "\n",
    "# Add title to the plot\n",
    "ax.set_title('Insurance Charges by Region');\n"
   ]
  }
 ],
 "metadata": {
  "kernelspec": {
   "display_name": "Python (dojo-env)",
   "language": "python",
   "name": "dojo-env"
  },
  "language_info": {
   "codemirror_mode": {
    "name": "ipython",
    "version": 3
   },
   "file_extension": ".py",
   "mimetype": "text/x-python",
   "name": "python",
   "nbconvert_exporter": "python",
   "pygments_lexer": "ipython3",
   "version": "3.9.15"
  },
  "toc": {
   "base_numbering": 1,
   "nav_menu": {},
   "number_sections": false,
   "sideBar": true,
   "skip_h1_title": false,
   "title_cell": "Table of Contents",
   "title_sidebar": "Contents",
   "toc_cell": false,
   "toc_position": {
    "height": "calc(100% - 180px)",
    "left": "10px",
    "top": "150px",
    "width": "305.594px"
   },
   "toc_section_display": true,
   "toc_window_display": true
  }
 },
 "nbformat": 4,
 "nbformat_minor": 5
}
