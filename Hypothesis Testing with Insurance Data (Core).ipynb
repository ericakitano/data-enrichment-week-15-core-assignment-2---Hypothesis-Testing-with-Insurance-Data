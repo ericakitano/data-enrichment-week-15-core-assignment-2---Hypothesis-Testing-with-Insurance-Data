{
 "cells": [
  {
   "cell_type": "markdown",
   "id": "2e0214c7",
   "metadata": {},
   "source": [
    "# 1. Import Library"
   ]
  },
  {
   "cell_type": "code",
   "execution_count": 1,
   "id": "b239ebae",
   "metadata": {},
   "outputs": [],
   "source": [
    "import pandas as pd\n",
    "import numpy as np\n",
    "import matplotlib.pyplot as plt\n",
    "import seaborn as sns\n",
    "import scipy.stats as stats"
   ]
  },
  {
   "cell_type": "markdown",
   "id": "9f5945e7",
   "metadata": {},
   "source": [
    "# 2. Load Data"
   ]
  },
  {
   "cell_type": "code",
   "execution_count": 2,
   "id": "b844d260",
   "metadata": {},
   "outputs": [
    {
     "data": {
      "text/html": [
       "<div>\n",
       "<style scoped>\n",
       "    .dataframe tbody tr th:only-of-type {\n",
       "        vertical-align: middle;\n",
       "    }\n",
       "\n",
       "    .dataframe tbody tr th {\n",
       "        vertical-align: top;\n",
       "    }\n",
       "\n",
       "    .dataframe thead th {\n",
       "        text-align: right;\n",
       "    }\n",
       "</style>\n",
       "<table border=\"1\" class=\"dataframe\">\n",
       "  <thead>\n",
       "    <tr style=\"text-align: right;\">\n",
       "      <th></th>\n",
       "      <th>age</th>\n",
       "      <th>sex</th>\n",
       "      <th>bmi</th>\n",
       "      <th>children</th>\n",
       "      <th>smoker</th>\n",
       "      <th>region</th>\n",
       "      <th>charges</th>\n",
       "    </tr>\n",
       "  </thead>\n",
       "  <tbody>\n",
       "    <tr>\n",
       "      <th>0</th>\n",
       "      <td>19</td>\n",
       "      <td>female</td>\n",
       "      <td>27.900</td>\n",
       "      <td>0</td>\n",
       "      <td>yes</td>\n",
       "      <td>southwest</td>\n",
       "      <td>16884.92400</td>\n",
       "    </tr>\n",
       "    <tr>\n",
       "      <th>1</th>\n",
       "      <td>18</td>\n",
       "      <td>male</td>\n",
       "      <td>33.770</td>\n",
       "      <td>1</td>\n",
       "      <td>no</td>\n",
       "      <td>southeast</td>\n",
       "      <td>1725.55230</td>\n",
       "    </tr>\n",
       "    <tr>\n",
       "      <th>2</th>\n",
       "      <td>28</td>\n",
       "      <td>male</td>\n",
       "      <td>33.000</td>\n",
       "      <td>3</td>\n",
       "      <td>no</td>\n",
       "      <td>southeast</td>\n",
       "      <td>4449.46200</td>\n",
       "    </tr>\n",
       "    <tr>\n",
       "      <th>3</th>\n",
       "      <td>33</td>\n",
       "      <td>male</td>\n",
       "      <td>22.705</td>\n",
       "      <td>0</td>\n",
       "      <td>no</td>\n",
       "      <td>northwest</td>\n",
       "      <td>21984.47061</td>\n",
       "    </tr>\n",
       "    <tr>\n",
       "      <th>4</th>\n",
       "      <td>32</td>\n",
       "      <td>male</td>\n",
       "      <td>28.880</td>\n",
       "      <td>0</td>\n",
       "      <td>no</td>\n",
       "      <td>northwest</td>\n",
       "      <td>3866.85520</td>\n",
       "    </tr>\n",
       "  </tbody>\n",
       "</table>\n",
       "</div>"
      ],
      "text/plain": [
       "   age     sex     bmi  children smoker     region      charges\n",
       "0   19  female  27.900         0    yes  southwest  16884.92400\n",
       "1   18    male  33.770         1     no  southeast   1725.55230\n",
       "2   28    male  33.000         3     no  southeast   4449.46200\n",
       "3   33    male  22.705         0     no  northwest  21984.47061\n",
       "4   32    male  28.880         0     no  northwest   3866.85520"
      ]
     },
     "execution_count": 2,
     "metadata": {},
     "output_type": "execute_result"
    }
   ],
   "source": [
    "df = pd.read_csv('Data/insurance.csv')\n",
    "df.head()"
   ]
  },
  {
   "cell_type": "code",
   "execution_count": 3,
   "id": "54821003",
   "metadata": {},
   "outputs": [
    {
     "name": "stdout",
     "output_type": "stream",
     "text": [
      "<class 'pandas.core.frame.DataFrame'>\n",
      "RangeIndex: 1338 entries, 0 to 1337\n",
      "Data columns (total 7 columns):\n",
      " #   Column    Non-Null Count  Dtype  \n",
      "---  ------    --------------  -----  \n",
      " 0   age       1338 non-null   int64  \n",
      " 1   sex       1338 non-null   object \n",
      " 2   bmi       1338 non-null   float64\n",
      " 3   children  1338 non-null   int64  \n",
      " 4   smoker    1338 non-null   object \n",
      " 5   region    1338 non-null   object \n",
      " 6   charges   1338 non-null   float64\n",
      "dtypes: float64(2), int64(2), object(3)\n",
      "memory usage: 73.3+ KB\n"
     ]
    }
   ],
   "source": [
    "df.info()"
   ]
  },
  {
   "cell_type": "markdown",
   "id": "cb09ecf9",
   "metadata": {},
   "source": [
    "# Q1. Do smokers have higher insurance charges than non-smokers?"
   ]
  },
  {
   "cell_type": "markdown",
   "id": "400fb027",
   "metadata": {},
   "source": [
    "## 1. State your Null Hypothesis and Alternative Hypothesis"
   ]
  },
  {
   "cell_type": "markdown",
   "id": "79473f8f",
   "metadata": {},
   "source": [
    "**Null Hypothesis**: There is no difference in the insurance charges between smokers and non-smokers.\n",
    "\n",
    "**Alternative Hypothesis**: There is a difference in the insurance charges between smokers and non-smokers. \n",
    "\n",
    "(Smokers have higher insurance charges than non-smokers.)"
   ]
  },
  {
   "cell_type": "markdown",
   "id": "786588e0",
   "metadata": {},
   "source": [
    "## 2. Select the correct test according to the data type and number of samples"
   ]
  },
  {
   "cell_type": "code",
   "execution_count": 4,
   "id": "49cb2feb",
   "metadata": {},
   "outputs": [
    {
     "data": {
      "text/plain": [
       "no     1064\n",
       "yes     274\n",
       "Name: smoker, dtype: int64"
      ]
     },
     "execution_count": 4,
     "metadata": {},
     "output_type": "execute_result"
    }
   ],
   "source": [
    "df['smoker'].value_counts()"
   ]
  },
  {
   "cell_type": "markdown",
   "id": "15ef5d22",
   "metadata": {},
   "source": [
    "**Test Type**: 2-sample Independent T-Test"
   ]
  },
  {
   "cell_type": "markdown",
   "id": "69fc6fea",
   "metadata": {},
   "source": [
    "- T-Test because it is numerical\n",
    "- Independent because different participants are in each group (smokers vs non-smokers)\n",
    "- Number of samples > 15 for each group\n",
    "\n"
   ]
  },
  {
   "cell_type": "markdown",
   "id": "f74e7c9e",
   "metadata": {},
   "source": [
    "## 3. Test the assumptions of your selected test."
   ]
  },
  {
   "cell_type": "markdown",
   "id": "74f8f1ee",
   "metadata": {},
   "source": [
    "Independent T-Test Assumptions:\n",
    "\n",
    "- No significant outliers\n",
    "- Normality \n",
    "- Equal Variance "
   ]
  },
  {
   "cell_type": "code",
   "execution_count": 5,
   "id": "c263a65b",
   "metadata": {},
   "outputs": [
    {
     "name": "stdout",
     "output_type": "stream",
     "text": [
      "For Smoker (n=274): Mean=32050.23\n",
      "For Non-Smoker (n=1064): Mean=8434.27\n"
     ]
    }
   ],
   "source": [
    "smoker_insurance = df.loc[df['smoker']=='yes',\"charges\"]\n",
    "nonsmoker_insurance = df.loc[ df['smoker']=='no',\"charges\"]\n",
    "## Print the average charges for each group\n",
    "print(f\"For Smoker (n={len(smoker_insurance)}): Mean={np.mean(smoker_insurance):.2f}\")\n",
    "print(f\"For Non-Smoker (n={len(nonsmoker_insurance)}): Mean={np.mean(nonsmoker_insurance):.2f}\")"
   ]
  },
  {
   "cell_type": "markdown",
   "id": "9d7987e8",
   "metadata": {},
   "source": [
    "### 3.1 Check Outliers"
   ]
  },
  {
   "cell_type": "code",
   "execution_count": 6,
   "id": "f76cb0d2",
   "metadata": {},
   "outputs": [
    {
     "data": {
      "text/plain": [
       "0"
      ]
     },
     "execution_count": 6,
     "metadata": {},
     "output_type": "execute_result"
    }
   ],
   "source": [
    "#check for outliers in insurance charges in the Smoker group\n",
    "zscores_f = stats.zscore(smoker_insurance)\n",
    "outliers_f = abs(zscores_f)>3\n",
    "np.sum(outliers_f)"
   ]
  },
  {
   "cell_type": "code",
   "execution_count": 7,
   "id": "9fd72517",
   "metadata": {},
   "outputs": [
    {
     "data": {
      "text/plain": [
       "24"
      ]
     },
     "execution_count": 7,
     "metadata": {},
     "output_type": "execute_result"
    }
   ],
   "source": [
    "#check for outliers in insurance charges in the Non-Smoker group\n",
    "zscores_f = stats.zscore(nonsmoker_insurance)\n",
    "outliers_f = abs(zscores_f)>3\n",
    "np.sum(outliers_f)"
   ]
  },
  {
   "cell_type": "markdown",
   "id": "a3646736",
   "metadata": {},
   "source": [
    "There are 24 outliers in the Non-Smoker group, so I will remove the outliers."
   ]
  },
  {
   "cell_type": "code",
   "execution_count": 8,
   "id": "61f36d29",
   "metadata": {},
   "outputs": [],
   "source": [
    "# remove outliers \n",
    "nonsmoker_insurance = nonsmoker_insurance[(np.abs(stats.zscore(nonsmoker_insurance)) < 3)]"
   ]
  },
  {
   "cell_type": "markdown",
   "id": "312082a5",
   "metadata": {},
   "source": [
    "### 3.2 Test Each Group for Normality"
   ]
  },
  {
   "cell_type": "code",
   "execution_count": 11,
   "id": "59de14c5",
   "metadata": {},
   "outputs": [
    {
     "data": {
      "text/plain": [
       "NormaltestResult(statistic=61.03941356533816, pvalue=5.564930630036463e-14)"
      ]
     },
     "execution_count": 11,
     "metadata": {},
     "output_type": "execute_result"
    }
   ],
   "source": [
    "# normal test: smokers\n",
    "result_smoker = stats.normaltest(smoker_insurance)\n",
    "result_smoker"
   ]
  },
  {
   "cell_type": "markdown",
   "id": "4a6b601a",
   "metadata": {},
   "source": [
    "p-value is less than 0.05, however, sample size is greater than 15, so we can proceed."
   ]
  },
  {
   "cell_type": "code",
   "execution_count": 12,
   "id": "c54a8f63",
   "metadata": {},
   "outputs": [
    {
     "data": {
      "text/plain": [
       "NormaltestResult(statistic=163.80367047789198, pvalue=2.6945416315543976e-36)"
      ]
     },
     "execution_count": 12,
     "metadata": {},
     "output_type": "execute_result"
    }
   ],
   "source": [
    "# normal test: non-smokers\n",
    "result_nonsmoker = stats.normaltest(nonsmoker_insurance)\n",
    "result_nonsmoker"
   ]
  },
  {
   "cell_type": "markdown",
   "id": "ffca34e9",
   "metadata": {},
   "source": [
    "For both groups, the p-value is less than 0.05, however, since the sample size for each group is more than 15, \n",
    "we can proceed."
   ]
  },
  {
   "cell_type": "markdown",
   "id": "8d968eb1",
   "metadata": {},
   "source": [
    "### 3.3 Test for Equal Variance"
   ]
  },
  {
   "cell_type": "code",
   "execution_count": 13,
   "id": "8c735be9",
   "metadata": {},
   "outputs": [
    {
     "data": {
      "text/plain": [
       "LeveneResult(statistic=520.7468821724297, pvalue=2.4247238784347824e-97)"
      ]
     },
     "execution_count": 13,
     "metadata": {},
     "output_type": "execute_result"
    }
   ],
   "source": [
    "result = stats.levene(smoker_insurance, nonsmoker_insurance)\n",
    "result"
   ]
  },
  {
   "cell_type": "markdown",
   "id": "08a008f5",
   "metadata": {},
   "source": [
    "Since p-value is less than 0.05, we do not have equal variance. \n",
    "\n",
    "We will need to include \"equal_var = False\" when we perform our t-test."
   ]
  },
  {
   "cell_type": "markdown",
   "id": "3b379231",
   "metadata": {},
   "source": [
    "## 4. Execute the selected test, or the alternative test (if you do not meet the assumptions)"
   ]
  },
  {
   "cell_type": "code",
   "execution_count": 14,
   "id": "ed654fb5",
   "metadata": {},
   "outputs": [
    {
     "data": {
      "text/plain": [
       "Ttest_indResult(statistic=33.732305987092516, pvalue=2.5753226625873578e-104)"
      ]
     },
     "execution_count": 14,
     "metadata": {},
     "output_type": "execute_result"
    }
   ],
   "source": [
    "# Independent t-test with equal_var set to False\n",
    "result = stats.ttest_ind(smoker_insurance, nonsmoker_insurance, equal_var = False)\n",
    "result"
   ]
  },
  {
   "cell_type": "markdown",
   "id": "a35fa86d",
   "metadata": {},
   "source": [
    "## 5. Interpret your p-value and reject or fail to reject your null hypothesis "
   ]
  },
  {
   "cell_type": "markdown",
   "id": "1c38e5e7",
   "metadata": {},
   "source": [
    "The p-value < alpha (0.05), so we reject the null hypothesis and accept that there is a significant difference in the insurance charges between smokers and non-smokers."
   ]
  },
  {
   "cell_type": "markdown",
   "id": "b750b028",
   "metadata": {},
   "source": [
    "## 6. Show a supporting visualization that helps display the result"
   ]
  },
  {
   "cell_type": "code",
   "execution_count": 21,
   "id": "8f0d148e",
   "metadata": {},
   "outputs": [
    {
     "data": {
      "image/png": "[encoded data removed]",
      "text/plain": [
       "<Figure size 640x480 with 1 Axes>"
      ]
     },
     "metadata": {},
     "output_type": "display_data"
    }
   ],
   "source": [
    "#calculate the statistical values\n",
    "smoker_mean = smoker_insurance.mean()\n",
    "nonsmoker_mean = nonsmoker_insurance.mean()\n",
    "\n",
    "# base plot\n",
    "ax = sns.histplot(data=df, x='charges', hue='smoker')\n",
    "\n",
    "# Add a line for the mean (red) of smoker insurance charges\n",
    "ax.axvline(smoker_mean, color = 'red',label=f'Smoker Mean = {smoker_mean:,.2f}')\n",
    "# Add a line for the mean (green) of non-smoker insurance charges\n",
    "ax.axvline(nonsmoker_mean, color = 'green', label = f'Non-Smoker Mean = {nonsmoker_mean:,.2f}')\n",
    "\n",
    "# Add title to the plot\n",
    "ax.set_title('Insurance Charges by Smoker & Non-Smoker')\n",
    "\n",
    "# Add legend to the plot\n",
    "ax.legend();"
   ]
  },
  {
   "cell_type": "markdown",
   "id": "77d0517e",
   "metadata": {},
   "source": [
    "# Q2. Are men more likely to smoke than women?"
   ]
  },
  {
   "cell_type": "markdown",
   "id": "3767f1cc",
   "metadata": {},
   "source": [
    "## 1. State your Null Hypothesis and Alternative Hypothesis"
   ]
  },
  {
   "cell_type": "markdown",
   "id": "35955936",
   "metadata": {},
   "source": [
    "**Null Hypothesis**: There is no difference in the likelihood of smoking between men and women.\n",
    "\n",
    "**Alternative Hypothesis**: Sex influences the likelihood of smoking. (Men are more likely to smoke than women.)"
   ]
  },
  {
   "cell_type": "markdown",
   "id": "665099b2",
   "metadata": {},
   "source": [
    "## 2. Select the correct test according to the data type and number of samples"
   ]
  },
  {
   "cell_type": "code",
   "execution_count": 22,
   "id": "c0bcd22d",
   "metadata": {},
   "outputs": [
    {
     "name": "stdout",
     "output_type": "stream",
     "text": [
      "<class 'pandas.core.frame.DataFrame'>\n",
      "RangeIndex: 1338 entries, 0 to 1337\n",
      "Data columns (total 7 columns):\n",
      " #   Column    Non-Null Count  Dtype  \n",
      "---  ------    --------------  -----  \n",
      " 0   age       1338 non-null   int64  \n",
      " 1   sex       1338 non-null   object \n",
      " 2   bmi       1338 non-null   float64\n",
      " 3   children  1338 non-null   int64  \n",
      " 4   smoker    1338 non-null   object \n",
      " 5   region    1338 non-null   object \n",
      " 6   charges   1338 non-null   float64\n",
      "dtypes: float64(2), int64(2), object(3)\n",
      "memory usage: 73.3+ KB\n"
     ]
    }
   ],
   "source": [
    "df.info()"
   ]
  },
  {
   "cell_type": "code",
   "execution_count": 23,
   "id": "10709af1",
   "metadata": {},
   "outputs": [
    {
     "data": {
      "text/plain": [
       "male      676\n",
       "female    662\n",
       "Name: sex, dtype: int64"
      ]
     },
     "execution_count": 23,
     "metadata": {},
     "output_type": "execute_result"
    }
   ],
   "source": [
    "df['sex'].value_counts()"
   ]
  },
  {
   "cell_type": "markdown",
   "id": "f36cee8c",
   "metadata": {},
   "source": [
    "**Test-Type**: Chi-Square test (Categorical Hypothesis Testing)"
   ]
  },
  {
   "cell_type": "markdown",
   "id": "a55eda59",
   "metadata": {},
   "source": [
    "**Justifications**:\n",
    "\n",
    "- The column of interest (target column) is 'smoker' (yes/no).\n",
    "- We are comparing a binary target category: 'smoker' (yes/no) vs. categorical groups: 'sex' (female/male).\n"
   ]
  },
  {
   "cell_type": "markdown",
   "id": "74a91fd5",
   "metadata": {},
   "source": [
    "## 3. Test the assumptions of your selected test."
   ]
  },
  {
   "cell_type": "markdown",
   "id": "dafb7cf4",
   "metadata": {},
   "source": [
    "> Chi-Square test assumptions:\n",
    ">\n",
    "> - There are two categorical variables (ordinal or nominal)\n",
    "> - The outcomes are independent."
   ]
  },
  {
   "cell_type": "markdown",
   "id": "ccb95af6",
   "metadata": {},
   "source": [
    "### 3.1 Two categorical variables"
   ]
  },
  {
   "cell_type": "markdown",
   "id": "939cb2c3",
   "metadata": {},
   "source": [
    "1. 'smoker'\n",
    "2. 'sex'"
   ]
  },
  {
   "cell_type": "markdown",
   "id": "5bef6700",
   "metadata": {},
   "source": [
    "### 3.2 Outcomes are independent"
   ]
  },
  {
   "cell_type": "markdown",
   "id": "b080c161",
   "metadata": {},
   "source": [
    "Different participants are in each group (male vs female), so outcomes are independent."
   ]
  },
  {
   "cell_type": "markdown",
   "id": "d86ee429",
   "metadata": {},
   "source": [
    "## 4. Execute the selected test, or the alternative test (if you do not meet the assumptions)"
   ]
  },
  {
   "cell_type": "markdown",
   "id": "d3cf1361",
   "metadata": {},
   "source": [
    "### 4.1 Getting the Contingency Table with `pd.crosstab`\n"
   ]
  },
  {
   "cell_type": "code",
   "execution_count": 24,
   "id": "cf4d8cef",
   "metadata": {},
   "outputs": [
    {
     "data": {
      "text/html": [
       "<div>\n",
       "<style scoped>\n",
       "    .dataframe tbody tr th:only-of-type {\n",
       "        vertical-align: middle;\n",
       "    }\n",
       "\n",
       "    .dataframe tbody tr th {\n",
       "        vertical-align: top;\n",
       "    }\n",
       "\n",
       "    .dataframe thead th {\n",
       "        text-align: right;\n",
       "    }\n",
       "</style>\n",
       "<table border=\"1\" class=\"dataframe\">\n",
       "  <thead>\n",
       "    <tr style=\"text-align: right;\">\n",
       "      <th>smoker</th>\n",
       "      <th>no</th>\n",
       "      <th>yes</th>\n",
       "    </tr>\n",
       "    <tr>\n",
       "      <th>sex</th>\n",
       "      <th></th>\n",
       "      <th></th>\n",
       "    </tr>\n",
       "  </thead>\n",
       "  <tbody>\n",
       "    <tr>\n",
       "      <th>female</th>\n",
       "      <td>547</td>\n",
       "      <td>115</td>\n",
       "    </tr>\n",
       "    <tr>\n",
       "      <th>male</th>\n",
       "      <td>517</td>\n",
       "      <td>159</td>\n",
       "    </tr>\n",
       "  </tbody>\n",
       "</table>\n",
       "</div>"
      ],
      "text/plain": [
       "smoker   no  yes\n",
       "sex             \n",
       "female  547  115\n",
       "male    517  159"
      ]
     },
     "execution_count": 24,
     "metadata": {},
     "output_type": "execute_result"
    }
   ],
   "source": [
    "# calculate the contingency table with pd.cross-tab\n",
    "table = pd.crosstab(df['sex'], df['smoker'])\n",
    "table"
   ]
  },
  {
   "cell_type": "code",
   "execution_count": 25,
   "id": "2358f4c4",
   "metadata": {},
   "outputs": [],
   "source": [
    "# Run the Test and Save the Output\n",
    "result = stats.chi2_contingency(table)\n",
    "chi2, p, deg_free, expected_vals = result #this labels the results"
   ]
  },
  {
   "cell_type": "code",
   "execution_count": 26,
   "id": "8ec8af04",
   "metadata": {},
   "outputs": [
    {
     "name": "stdout",
     "output_type": "stream",
     "text": [
      "0.006548143503580696\n"
     ]
    },
    {
     "data": {
      "text/plain": [
       "True"
      ]
     },
     "execution_count": 26,
     "metadata": {},
     "output_type": "execute_result"
    }
   ],
   "source": [
    "# Display p-value and check against alpha\n",
    "print(p)\n",
    "p<.05"
   ]
  },
  {
   "cell_type": "markdown",
   "id": "6e5f58ce",
   "metadata": {},
   "source": [
    "## 5. Interpret your p-value and reject or fail to reject your null hypothesis "
   ]
  },
  {
   "cell_type": "markdown",
   "id": "e6744502",
   "metadata": {},
   "source": [
    "The p-value is less than 0.05, so we have a significant result.\n",
    "\n",
    "Since the p-value < .05, we reject the null hypothesis that there is no relationship between sex and likelihood of being a smoker.\n",
    "\n",
    "This means that we accept the alternate hypothesis and conclude that men are more likely to smoke than women."
   ]
  },
  {
   "cell_type": "markdown",
   "id": "54aeb5a4",
   "metadata": {},
   "source": [
    "## 6. Show a supporting visualization that helps display the result"
   ]
  },
  {
   "cell_type": "code",
   "execution_count": 29,
   "id": "78441320",
   "metadata": {},
   "outputs": [
    {
     "data": {
      "text/plain": [
       "Text(0.5, 1.0, 'Smoker by sex')"
      ]
     },
     "execution_count": 29,
     "metadata": {},
     "output_type": "execute_result"
    },
    {
     "data": {
      "image/png": "[encoded data removed]",
      "text/plain": [
       "<Figure size 640x480 with 1 Axes>"
      ]
     },
     "metadata": {},
     "output_type": "display_data"
    }
   ],
   "source": [
    "\n",
    "ax = sns.countplot(data=df, x='smoker', hue='sex')\n",
    "\n",
    "# Add title to the plot\n",
    "ax.set_title('Smoker by sex')\n"
   ]
  }
 ],
 "metadata": {
  "kernelspec": {
   "display_name": "Python (dojo-env)",
   "language": "python",
   "name": "dojo-env"
  },
  "language_info": {
   "codemirror_mode": {
    "name": "ipython",
    "version": 3
   },
   "file_extension": ".py",
   "mimetype": "text/x-python",
   "name": "python",
   "nbconvert_exporter": "python",
   "pygments_lexer": "ipython3",
   "version": "3.9.15"
  },
  "toc": {
   "base_numbering": 1,
   "nav_menu": {},
   "number_sections": false,
   "sideBar": true,
   "skip_h1_title": false,
   "title_cell": "Table of Contents",
   "title_sidebar": "Contents",
   "toc_cell": false,
   "toc_position": {
    "height": "calc(100% - 180px)",
    "left": "10px",
    "top": "150px",
    "width": "305.594px"
   },
   "toc_section_display": true,
   "toc_window_display": true
  }
 },
 "nbformat": 4,
 "nbformat_minor": 5
}
